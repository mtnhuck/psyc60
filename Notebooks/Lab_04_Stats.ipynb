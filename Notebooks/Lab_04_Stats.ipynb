{
 "cells": [
  {
   "cell_type": "markdown",
   "metadata": {},
   "source": [
    "# Statistics and Visualization Lab"
   ]
  },
  {
   "cell_type": "markdown",
   "metadata": {},
   "source": [
    "__For each question in this lab please post your answers to the canvas discussion for Lab 04 when you are done.__\n",
    "\n",
    "As you well know, statistics are extremly important science in general, but, one could argue that without statistics fMRI would be relatively useless. \n",
    "\n",
    "### GLM\n",
    "\n",
    "In Lab 03, we calculated first-level fixed-effects general linear model by accounting for:\n",
    "When the the movie was on VS off (1st column)\n",
    "Motion (next 6 columns)\n",
    "Run (next columns, remember we had 2 runs)\n",
    "\n",
    "<img src=\"Images/Lab_03_MOVIEON_GLMa.png\"></img>\n",
    "\n",
    "If you would like more information outside of what we covered in class check [this out](http://www.fil.ion.ucl.ac.uk/spm/course/slides10-vancouver/02_General_Linear_Model.pdf)\n",
    "\n",
    "\n",
    "### RFX\n",
    "\n",
    "In Lab 03, we also calculated random effects, abbreviated as RFX in SPM. RFX allows us to extrapolate the results from our group of subjects to a population of subjects drawn from a similar pool\n",
    "\n"
   ]
  },
  {
   "cell_type": "markdown",
   "metadata": {},
   "source": [
    "### Reconnect to your VNC session\n",
    "\n",
    "Use ScreenShare (Mac) or TightVNC (PC) to reconnect to your VNC session. \n",
    "\n",
    "If your old session timed out start a new one as described in earlier labs."
   ]
  },
  {
   "cell_type": "markdown",
   "metadata": {},
   "source": [
    "### View your results from Lab 03\n",
    "\n",
    "Open up matlab if you don't already have it opened by typing 'spm12' then open 'xjview' \n",
    "\n",
    "Once xjview is open load the results of your GLM analysis - looking at the con(trast) file  for movie on vs movie off for a single subject. Now that you have it open take a look around and see which brain areas showed activation VS deactivation in the movie. \n",
    "\n",
    "How many regions do you have? (hint click `Report`)\n",
    "\n",
    "Can you tell if these regions would pass a significance test? If so, how?\n",
    "\n",
    "What `p-value` and `cluster size` does xjview list?\n",
    "\n",
    "What happens when you change the `p-value` or `cluster size`? How many regions do you have now?\n",
    "\n",
    "Now load the results of your RFX analysis (group-level) and report your answers for the above questions. \n",
    "\n",
    "What is similar between the individual (GLM) and group (RFX) level analyses?\n",
    "\n",
    "What is different?"
   ]
  },
  {
   "cell_type": "markdown",
   "metadata": {},
   "source": [
    "### Volume Correction\n",
    "\n",
    "There is a wide-range of values you could use for voxelwise p-value thresholds or cluster size - which is correct or optimal?\n",
    "\n",
    "To account for multiple comparisons we are going to run an analysis identify some pairs of p-value and cluster-size thresholds. Remember, if you change the p-value, that will change the cluster-size that you need to identify real results without too many false positives.\n",
    "\n",
    "The script we are going to run does a few things:\n",
    "1. Estimates the shape of the noise in our data from the residuals in our RFX analysis\n",
    "2. Estimates the average noise across subjects\n",
    "3. Submits these parameters to a permutation testing algorithm which then sees how often you would see clusters of a certain size above a given p-value threshold\n",
    "\n",
    "To do this:\n",
    "First move into the directory that your RFX results are in. (cd, ls and pwd are friends)\n",
    "\n",
    "\n",
    "\n",
    "\n"
   ]
  },
  {
   "cell_type": "code",
   "execution_count": null,
   "metadata": {},
   "outputs": [],
   "source": []
  },
  {
   "cell_type": "code",
   "execution_count": null,
   "metadata": {},
   "outputs": [],
   "source": []
  },
  {
   "cell_type": "markdown",
   "metadata": {},
   "source": [
    "### You have results... what do they mean?\n",
    "\n",
    "\n",
    "<img src=\"Images/Lab_04_InfoMapTD05_LM.png\"></img>\n",
    "\n",
    "\n",
    "<img src=\"Images/Lab_04_InfoMapTD05_LM_Labels.png\"></img>\n",
    "\n",
    "\n",
    "What regions/networks/systems would the positive regions (more brain activity during movie on VS movie off) be part of (see above)?\n",
    "\n",
    "Negative regions/networks/systems?\n",
    "\n"
   ]
  },
  {
   "cell_type": "markdown",
   "metadata": {},
   "source": [
    "### Visualizing your results\n",
    "\n",
    "There are a few options for visualizing your results once you have found a p-value and volume that you are going to use for your project.\n",
    "\n",
    "Surprise, surprise, xjview, which we use to threshold and view our images is very useful for creating high quality images of our results for the purposes\n",
    "\n",
    "\n",
    "\n",
    "\n",
    "HCP workbench is a great option to make beatiful visuals, but it does take some more effort. While not required for class, it is an great way to visualize your data from your personal computer.\n",
    "Download:\n",
    "https://www.humanconnectome.org/software/get-connectome-workbench\n",
    "Tutorials:\n",
    "https://www.humanconnectome.org/software/get-connectome-workbench#documentation\n"
   ]
  }
 ],
 "metadata": {
  "kernelspec": {
   "display_name": "Python 3",
   "language": "python",
   "name": "python3"
  },
  "language_info": {
   "codemirror_mode": {
    "name": "ipython",
    "version": 3
   },
   "file_extension": ".py",
   "mimetype": "text/x-python",
   "name": "python",
   "nbconvert_exporter": "python",
   "pygments_lexer": "ipython3",
   "version": "3.6.2"
  }
 },
 "nbformat": 4,
 "nbformat_minor": 2
}
